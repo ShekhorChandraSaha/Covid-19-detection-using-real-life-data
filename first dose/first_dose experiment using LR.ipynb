{
 "cells": [
  {
   "cell_type": "code",
   "execution_count": 3,
   "metadata": {},
   "outputs": [],
   "source": [
    "import matplotlib.pyplot as plt\n",
    "import pandas as pd\n",
    "import numpy as np\n",
    "import matplotlib.pyplot as plt\n",
    "from sklearn import preprocessing"
   ]
  },
  {
   "cell_type": "code",
   "execution_count": 4,
   "metadata": {},
   "outputs": [
    {
     "data": {
      "text/html": [
       "<div>\n",
       "<style scoped>\n",
       "    .dataframe tbody tr th:only-of-type {\n",
       "        vertical-align: middle;\n",
       "    }\n",
       "\n",
       "    .dataframe tbody tr th {\n",
       "        vertical-align: top;\n",
       "    }\n",
       "\n",
       "    .dataframe thead th {\n",
       "        text-align: right;\n",
       "    }\n",
       "</style>\n",
       "<table border=\"1\" class=\"dataframe\">\n",
       "  <thead>\n",
       "    <tr style=\"text-align: right;\">\n",
       "      <th></th>\n",
       "      <th>Day</th>\n",
       "      <th>Number of Vaccinations (First Dose)</th>\n",
       "    </tr>\n",
       "  </thead>\n",
       "  <tbody>\n",
       "    <tr>\n",
       "      <th>0</th>\n",
       "      <td>2021-01-27</td>\n",
       "      <td>26.0</td>\n",
       "    </tr>\n",
       "    <tr>\n",
       "      <th>1</th>\n",
       "      <td>2021-01-28</td>\n",
       "      <td>541.0</td>\n",
       "    </tr>\n",
       "    <tr>\n",
       "      <th>2</th>\n",
       "      <td>2021-02-07</td>\n",
       "      <td>31160.0</td>\n",
       "    </tr>\n",
       "    <tr>\n",
       "      <th>3</th>\n",
       "      <td>2021-02-08</td>\n",
       "      <td>46509.0</td>\n",
       "    </tr>\n",
       "    <tr>\n",
       "      <th>4</th>\n",
       "      <td>2021-02-09</td>\n",
       "      <td>101082.0</td>\n",
       "    </tr>\n",
       "    <tr>\n",
       "      <th>5</th>\n",
       "      <td>2021-02-10</td>\n",
       "      <td>154914.0</td>\n",
       "    </tr>\n",
       "    <tr>\n",
       "      <th>6</th>\n",
       "      <td>2021-02-11</td>\n",
       "      <td>204540.0</td>\n",
       "    </tr>\n",
       "    <tr>\n",
       "      <th>7</th>\n",
       "      <td>2021-02-13</td>\n",
       "      <td>194371.0</td>\n",
       "    </tr>\n",
       "    <tr>\n",
       "      <th>8</th>\n",
       "      <td>2021-02-14</td>\n",
       "      <td>169353.0</td>\n",
       "    </tr>\n",
       "    <tr>\n",
       "      <th>9</th>\n",
       "      <td>2021-02-15</td>\n",
       "      <td>226678.0</td>\n",
       "    </tr>\n",
       "  </tbody>\n",
       "</table>\n",
       "</div>"
      ],
      "text/plain": [
       "          Day  Number of Vaccinations (First Dose)\n",
       "0  2021-01-27                                 26.0\n",
       "1  2021-01-28                                541.0\n",
       "2  2021-02-07                              31160.0\n",
       "3  2021-02-08                              46509.0\n",
       "4  2021-02-09                             101082.0\n",
       "5  2021-02-10                             154914.0\n",
       "6  2021-02-11                             204540.0\n",
       "7  2021-02-13                             194371.0\n",
       "8  2021-02-14                             169353.0\n",
       "9  2021-02-15                             226678.0"
      ]
     },
     "execution_count": 4,
     "metadata": {},
     "output_type": "execute_result"
    }
   ],
   "source": [
    "dataset = pd.read_csv('covid_first_dose.csv')\n",
    "dataset.head(10)"
   ]
  },
  {
   "cell_type": "code",
   "execution_count": 5,
   "metadata": {},
   "outputs": [
    {
     "name": "stdout",
     "output_type": "stream",
     "text": [
      "    Day  Number of Vaccinations (First Dose)\n",
      "0     0                                 26.0\n",
      "1     1                                541.0\n",
      "2     2                              31160.0\n",
      "3     3                              46509.0\n",
      "4     4                             101082.0\n",
      "..  ...                                  ...\n",
      "95   95                               4837.0\n",
      "96   96                               4975.0\n",
      "97   97                               4120.0\n",
      "98   98                               7949.0\n",
      "99   99                               8616.0\n",
      "\n",
      "[100 rows x 2 columns]\n"
     ]
    }
   ],
   "source": [
    "# label_encoder object knows how to understand word labels. \n",
    "label_encoder = preprocessing.LabelEncoder()\n",
    "# Encode labels in column 'Country'. \n",
    "dataset['Day']= label_encoder.fit_transform(dataset['Day']) \n",
    "print(dataset.head(100))"
   ]
  },
  {
   "cell_type": "code",
   "execution_count": 6,
   "metadata": {},
   "outputs": [
    {
     "data": {
      "text/plain": [
       "(239, 2)"
      ]
     },
     "execution_count": 6,
     "metadata": {},
     "output_type": "execute_result"
    }
   ],
   "source": [
    "dataset.shape"
   ]
  },
  {
   "cell_type": "code",
   "execution_count": 7,
   "metadata": {},
   "outputs": [
    {
     "data": {
      "text/html": [
       "<div>\n",
       "<style scoped>\n",
       "    .dataframe tbody tr th:only-of-type {\n",
       "        vertical-align: middle;\n",
       "    }\n",
       "\n",
       "    .dataframe tbody tr th {\n",
       "        vertical-align: top;\n",
       "    }\n",
       "\n",
       "    .dataframe thead th {\n",
       "        text-align: right;\n",
       "    }\n",
       "</style>\n",
       "<table border=\"1\" class=\"dataframe\">\n",
       "  <thead>\n",
       "    <tr style=\"text-align: right;\">\n",
       "      <th></th>\n",
       "      <th>Day</th>\n",
       "      <th>Number of Vaccinations (First Dose)</th>\n",
       "    </tr>\n",
       "  </thead>\n",
       "  <tbody>\n",
       "    <tr>\n",
       "      <th>count</th>\n",
       "      <td>239.000000</td>\n",
       "      <td>2.390000e+02</td>\n",
       "    </tr>\n",
       "    <tr>\n",
       "      <th>mean</th>\n",
       "      <td>119.000000</td>\n",
       "      <td>2.873681e+05</td>\n",
       "    </tr>\n",
       "    <tr>\n",
       "      <th>std</th>\n",
       "      <td>69.137544</td>\n",
       "      <td>5.407586e+05</td>\n",
       "    </tr>\n",
       "    <tr>\n",
       "      <th>min</th>\n",
       "      <td>0.000000</td>\n",
       "      <td>2.000000e+00</td>\n",
       "    </tr>\n",
       "    <tr>\n",
       "      <th>25%</th>\n",
       "      <td>59.500000</td>\n",
       "      <td>3.550150e+04</td>\n",
       "    </tr>\n",
       "    <tr>\n",
       "      <th>50%</th>\n",
       "      <td>119.000000</td>\n",
       "      <td>2.050900e+05</td>\n",
       "    </tr>\n",
       "    <tr>\n",
       "      <th>75%</th>\n",
       "      <td>178.500000</td>\n",
       "      <td>3.202935e+05</td>\n",
       "    </tr>\n",
       "    <tr>\n",
       "      <th>max</th>\n",
       "      <td>238.000000</td>\n",
       "      <td>6.625123e+06</td>\n",
       "    </tr>\n",
       "  </tbody>\n",
       "</table>\n",
       "</div>"
      ],
      "text/plain": [
       "              Day  Number of Vaccinations (First Dose)\n",
       "count  239.000000                         2.390000e+02\n",
       "mean   119.000000                         2.873681e+05\n",
       "std     69.137544                         5.407586e+05\n",
       "min      0.000000                         2.000000e+00\n",
       "25%     59.500000                         3.550150e+04\n",
       "50%    119.000000                         2.050900e+05\n",
       "75%    178.500000                         3.202935e+05\n",
       "max    238.000000                         6.625123e+06"
      ]
     },
     "execution_count": 7,
     "metadata": {},
     "output_type": "execute_result"
    }
   ],
   "source": [
    "dataset.describe()"
   ]
  },
  {
   "cell_type": "code",
   "execution_count": 10,
   "metadata": {},
   "outputs": [
    {
     "data": {
      "image/png": "[encoded data removed]",
      "text/plain": [
       "<Figure size 432x288 with 1 Axes>"
      ]
     },
     "metadata": {
      "needs_background": "light"
     },
     "output_type": "display_data"
    }
   ],
   "source": [
    "#Make prediction for Confirmed Case and Date case\n",
    "\n",
    "dataset.plot(kind= 'scatter', x='Day', y='Number of Vaccinations (First Dose)')\n",
    "plt.show()"
   ]
  },
  {
   "cell_type": "code",
   "execution_count": null,
   "metadata": {},
   "outputs": [],
   "source": []
  },
  {
   "cell_type": "code",
   "execution_count": 7,
   "metadata": {},
   "outputs": [
    {
     "name": "stdout",
     "output_type": "stream",
     "text": [
      "Shape of X = (239, 1)\n",
      "Shape of y = (239,)\n"
     ]
    }
   ],
   "source": [
    "X= dataset.drop('Number of Vaccinations (First Dose)', axis=1)\n",
    "y= dataset['Number of Vaccinations (First Dose)']\n",
    "\n",
    "print('Shape of X =', X.shape)\n",
    "print('Shape of y =', y.shape)"
   ]
  },
  {
   "cell_type": "code",
   "execution_count": 8,
   "metadata": {},
   "outputs": [
    {
     "name": "stdout",
     "output_type": "stream",
     "text": [
      "Shape of X_train =  (191, 1)\n",
      "Shape of y_train =  (191,)\n",
      "Shape of X_test =  (48, 1)\n",
      "Shape of y_test =  (48,)\n"
     ]
    }
   ],
   "source": [
    "from sklearn.model_selection import train_test_split\n",
    "X_train, X_test, y_train, y_test = train_test_split(X, y, test_size=0.05, random_state=51)\n",
    " \n",
    "print('Shape of X_train = ', X_train.shape)\n",
    "print('Shape of y_train = ', y_train.shape)\n",
    "print('Shape of X_test = ', X_test.shape)\n",
    "print('Shape of y_test = ', y_test.shape)"
   ]
  },
  {
   "cell_type": "code",
   "execution_count": null,
   "metadata": {},
   "outputs": [],
   "source": [
    "# test train split for vidualisation\n",
    "plt.scatter(x_train, y_train, label = 'Training Data', color = 'r', alpha = .7)\n",
    "plt.scatter(x_test, y_test, label = 'Testing Data', color = 'g', alpha = .7)\n",
    "plt.legend()\n",
    "plt.title('Train_Test Spliting')\n",
    "plt.show()"
   ]
  },
  {
   "cell_type": "code",
   "execution_count": 9,
   "metadata": {},
   "outputs": [],
   "source": [
    "from sklearn.preprocessing import StandardScaler\n",
    "sc = StandardScaler()\n",
    "sc.fit(X_train)\n",
    "X_train = sc.transform(X_train)\n",
    "X_test = sc.transform(X_test)"
   ]
  },
  {
   "cell_type": "code",
   "execution_count": 10,
   "metadata": {},
   "outputs": [
    {
     "data": {
      "text/plain": [
       "LinearRegression()"
      ]
     },
     "execution_count": 10,
     "metadata": {},
     "output_type": "execute_result"
    }
   ],
   "source": [
    "from sklearn.linear_model import LinearRegression\n",
    "lr = LinearRegression()\n",
    " \n",
    "lr.fit(X_train, y_train)"
   ]
  },
  {
   "cell_type": "code",
   "execution_count": 11,
   "metadata": {},
   "outputs": [
    {
     "data": {
      "text/plain": [
       "array([211806.4881067])"
      ]
     },
     "execution_count": 11,
     "metadata": {},
     "output_type": "execute_result"
    }
   ],
   "source": [
    "lr.coef_"
   ]
  },
  {
   "cell_type": "code",
   "execution_count": 12,
   "metadata": {},
   "outputs": [
    {
     "data": {
      "text/plain": [
       "304520.83246073296"
      ]
     },
     "execution_count": 12,
     "metadata": {},
     "output_type": "execute_result"
    }
   ],
   "source": [
    "lr.intercept_"
   ]
  },
  {
   "cell_type": "code",
   "execution_count": 13,
   "metadata": {},
   "outputs": [
    {
     "data": {
      "text/plain": [
       "array([0.26421973])"
      ]
     },
     "execution_count": 13,
     "metadata": {},
     "output_type": "execute_result"
    }
   ],
   "source": [
    "X_test[0, :]"
   ]
  },
  {
   "cell_type": "code",
   "execution_count": 14,
   "metadata": {},
   "outputs": [
    {
     "data": {
      "text/plain": [
       "array([360484.28580609])"
      ]
     },
     "execution_count": 14,
     "metadata": {},
     "output_type": "execute_result"
    }
   ],
   "source": [
    "lr.predict([X_test[0, :]])"
   ]
  },
  {
   "cell_type": "code",
   "execution_count": 15,
   "metadata": {},
   "outputs": [
    {
     "data": {
      "text/plain": [
       "array([ 3.60484286e+05,  5.81357508e+05,  4.66254561e+05,  4.04036752e+05,\n",
       "        2.60935791e+05,  6.00022851e+05,  6.80605834e+04,  2.64046682e+05,\n",
       "        3.72927848e+05, -7.19294869e+04,  2.79601134e+05,  4.93952407e+04,\n",
       "        6.59129769e+05, -3.79006487e+02,  4.22702095e+05,  2.04939763e+05,\n",
       "        3.94704081e+05,  2.95155586e+05,  8.67259261e+04, -4.08205823e+04,\n",
       "        3.69516789e+04, -5.94859251e+04, -2.83770205e+04,  4.78698123e+05,\n",
       "        1.11613050e+05,  5.93801070e+05,  5.87579289e+05,  5.06696137e+05,\n",
       "        1.48943735e+05,  3.32486272e+05,  1.30278392e+05,  5.72024836e+05,\n",
       "       -5.01532537e+04,  1.24056612e+05,  3.82260519e+05,  3.35597162e+05,\n",
       "        6.43575317e+05,  1.27167502e+05,  2.26715996e+05,  5.87279121e+04,\n",
       "        5.19139699e+05, -6.60078739e+03,  3.20042710e+05,  2.29826887e+05,\n",
       "       -1.28225683e+04,  4.00625694e+04,  6.52907988e+05,  4.63143671e+05])"
      ]
     },
     "execution_count": 15,
     "metadata": {},
     "output_type": "execute_result"
    }
   ],
   "source": [
    "lr.predict(X_test)"
   ]
  },
  {
   "cell_type": "code",
   "execution_count": 16,
   "metadata": {},
   "outputs": [
    {
     "data": {
      "text/plain": [
       "139     293857.0\n",
       "210     499779.0\n",
       "173     411464.0\n",
       "153     230769.0\n",
       "107     138167.0\n",
       "216    1102993.0\n",
       "45       42360.0\n",
       "108     178196.0\n",
       "143     218051.0\n",
       "0           26.0\n",
       "113     159663.0\n",
       "39       78817.0\n",
       "235     338574.0\n",
       "23      121010.0\n",
       "159     297017.0\n",
       "89        6015.0\n",
       "150     226451.0\n",
       "118     250928.0\n",
       "51       14804.0\n",
       "10      226902.0\n",
       "35       72923.0\n",
       "4       101082.0\n",
       "14      225280.0\n",
       "177     349528.0\n",
       "59       15057.0\n",
       "214     476984.0\n",
       "212     607084.0\n",
       "186     330760.0\n",
       "71          38.0\n",
       "130     288507.0\n",
       "65         891.0\n",
       "207     217057.0\n",
       "7       194371.0\n",
       "63       20194.0\n",
       "146     199025.0\n",
       "131     149914.0\n",
       "230     348297.0\n",
       "64       19520.0\n",
       "96        4975.0\n",
       "42       58424.0\n",
       "190     337988.0\n",
       "21      114680.0\n",
       "126     596224.0\n",
       "97        4120.0\n",
       "19      125752.0\n",
       "36       80222.0\n",
       "233     291402.0\n",
       "172     451363.0\n",
       "Name: Number of Vaccinations (First Dose), dtype: float64"
      ]
     },
     "execution_count": 16,
     "metadata": {},
     "output_type": "execute_result"
    }
   ],
   "source": [
    "y_test"
   ]
  },
  {
   "cell_type": "code",
   "execution_count": 17,
   "metadata": {},
   "outputs": [
    {
     "data": {
      "text/plain": [
       "0.21824130359170335"
      ]
     },
     "execution_count": 17,
     "metadata": {},
     "output_type": "execute_result"
    }
   ],
   "source": [
    "lr.score(X_test, y_test)"
   ]
  },
  {
   "cell_type": "code",
   "execution_count": null,
   "metadata": {},
   "outputs": [],
   "source": []
  }
 ],
 "metadata": {
  "kernelspec": {
   "display_name": "Python 3",
   "language": "python",
   "name": "python3"
  },
  "language_info": {
   "codemirror_mode": {
    "name": "ipython",
    "version": 3
   },
   "file_extension": ".py",
   "mimetype": "text/x-python",
   "name": "python",
   "nbconvert_exporter": "python",
   "pygments_lexer": "ipython3",
   "version": "3.8.3"
  }
 },
 "nbformat": 4,
 "nbformat_minor": 4
}
