{
 "cells": [
  {
   "cell_type": "code",
   "execution_count": 1,
   "metadata": {},
   "outputs": [],
   "source": [
    "import matplotlib.pyplot as plt\n",
    "import pandas as pd\n",
    "import numpy as np\n",
    "from sklearn import preprocessing\n",
    "from sklearn.linear_model import LinearRegression"
   ]
  },
  {
   "cell_type": "code",
   "execution_count": 2,
   "metadata": {},
   "outputs": [
    {
     "data": {
      "text/html": [
       "<div>\n",
       "<style scoped>\n",
       "    .dataframe tbody tr th:only-of-type {\n",
       "        vertical-align: middle;\n",
       "    }\n",
       "\n",
       "    .dataframe tbody tr th {\n",
       "        vertical-align: top;\n",
       "    }\n",
       "\n",
       "    .dataframe thead th {\n",
       "        text-align: right;\n",
       "    }\n",
       "</style>\n",
       "<table border=\"1\" class=\"dataframe\">\n",
       "  <thead>\n",
       "    <tr style=\"text-align: right;\">\n",
       "      <th></th>\n",
       "      <th>day</th>\n",
       "      <th>lab_test</th>\n",
       "      <th>confirmed_case</th>\n",
       "      <th>death_case</th>\n",
       "      <th>first_dose</th>\n",
       "      <th>second_dose</th>\n",
       "    </tr>\n",
       "  </thead>\n",
       "  <tbody>\n",
       "    <tr>\n",
       "      <th>0</th>\n",
       "      <td>4/4/2020</td>\n",
       "      <td>434</td>\n",
       "      <td>9</td>\n",
       "      <td>2</td>\n",
       "      <td>0</td>\n",
       "      <td>0</td>\n",
       "    </tr>\n",
       "    <tr>\n",
       "      <th>1</th>\n",
       "      <td>5/4/2020</td>\n",
       "      <td>367</td>\n",
       "      <td>18</td>\n",
       "      <td>1</td>\n",
       "      <td>0</td>\n",
       "      <td>0</td>\n",
       "    </tr>\n",
       "    <tr>\n",
       "      <th>2</th>\n",
       "      <td>6/4/2020</td>\n",
       "      <td>468</td>\n",
       "      <td>35</td>\n",
       "      <td>3</td>\n",
       "      <td>0</td>\n",
       "      <td>0</td>\n",
       "    </tr>\n",
       "    <tr>\n",
       "      <th>3</th>\n",
       "      <td>7/4/2020</td>\n",
       "      <td>679</td>\n",
       "      <td>41</td>\n",
       "      <td>5</td>\n",
       "      <td>0</td>\n",
       "      <td>0</td>\n",
       "    </tr>\n",
       "    <tr>\n",
       "      <th>4</th>\n",
       "      <td>8/4/2020</td>\n",
       "      <td>981</td>\n",
       "      <td>54</td>\n",
       "      <td>3</td>\n",
       "      <td>0</td>\n",
       "      <td>0</td>\n",
       "    </tr>\n",
       "    <tr>\n",
       "      <th>5</th>\n",
       "      <td>9/4/2020</td>\n",
       "      <td>905</td>\n",
       "      <td>112</td>\n",
       "      <td>1</td>\n",
       "      <td>0</td>\n",
       "      <td>0</td>\n",
       "    </tr>\n",
       "    <tr>\n",
       "      <th>6</th>\n",
       "      <td>10/4/2020</td>\n",
       "      <td>1184</td>\n",
       "      <td>94</td>\n",
       "      <td>6</td>\n",
       "      <td>0</td>\n",
       "      <td>0</td>\n",
       "    </tr>\n",
       "    <tr>\n",
       "      <th>7</th>\n",
       "      <td>11/4/2020</td>\n",
       "      <td>954</td>\n",
       "      <td>58</td>\n",
       "      <td>3</td>\n",
       "      <td>0</td>\n",
       "      <td>0</td>\n",
       "    </tr>\n",
       "    <tr>\n",
       "      <th>8</th>\n",
       "      <td>12/4/2020</td>\n",
       "      <td>1340</td>\n",
       "      <td>139</td>\n",
       "      <td>4</td>\n",
       "      <td>0</td>\n",
       "      <td>0</td>\n",
       "    </tr>\n",
       "    <tr>\n",
       "      <th>9</th>\n",
       "      <td>13-04-2020</td>\n",
       "      <td>1570</td>\n",
       "      <td>182</td>\n",
       "      <td>5</td>\n",
       "      <td>0</td>\n",
       "      <td>0</td>\n",
       "    </tr>\n",
       "  </tbody>\n",
       "</table>\n",
       "</div>"
      ],
      "text/plain": [
       "          day  lab_test  confirmed_case  death_case  first_dose  second_dose\n",
       "0    4/4/2020       434               9           2           0            0\n",
       "1    5/4/2020       367              18           1           0            0\n",
       "2    6/4/2020       468              35           3           0            0\n",
       "3    7/4/2020       679              41           5           0            0\n",
       "4    8/4/2020       981              54           3           0            0\n",
       "5    9/4/2020       905             112           1           0            0\n",
       "6   10/4/2020      1184              94           6           0            0\n",
       "7   11/4/2020       954              58           3           0            0\n",
       "8   12/4/2020      1340             139           4           0            0\n",
       "9  13-04-2020      1570             182           5           0            0"
      ]
     },
     "execution_count": 2,
     "metadata": {},
     "output_type": "execute_result"
    }
   ],
   "source": [
    "dataset = pd.read_csv('Mergerd_Dataset.csv')\n",
    "dataset.head(10)"
   ]
  },
  {
   "cell_type": "code",
   "execution_count": 3,
   "metadata": {},
   "outputs": [
    {
     "name": "stdout",
     "output_type": "stream",
     "text": [
      "    day  lab_test  confirmed_case  death_case  first_dose  second_dose\n",
      "0   509       434               9           2           0            0\n",
      "1   530       367              18           1           0            0\n",
      "2   551       468              35           3           0            0\n",
      "3   572       679              41           5           0            0\n",
      "4   593       981              54           3           0            0\n",
      "..  ...       ...             ...         ...         ...          ...\n",
      "75  195     16259            3803          38           0            0\n",
      "76  216     15045            3243          45           0            0\n",
      "77  257     14031            3240          37           0            0\n",
      "78  278     15585            3531          39           0            0\n",
      "79  298     15555            3480          38           0            0\n",
      "\n",
      "[80 rows x 6 columns]\n"
     ]
    }
   ],
   "source": [
    "# label_encoder object knows how to understand word labels. \n",
    "label_encoder = preprocessing.LabelEncoder()\n",
    "# Encode labels in column 'Country'. \n",
    "dataset['day']= label_encoder.fit_transform(dataset['day']) \n",
    "print(dataset.head(80))"
   ]
  },
  {
   "cell_type": "code",
   "execution_count": 4,
   "metadata": {},
   "outputs": [
    {
     "data": {
      "text/plain": [
       "(626, 6)"
      ]
     },
     "execution_count": 4,
     "metadata": {},
     "output_type": "execute_result"
    }
   ],
   "source": [
    "dataset.shape"
   ]
  },
  {
   "cell_type": "code",
   "execution_count": 5,
   "metadata": {},
   "outputs": [
    {
     "data": {
      "text/html": [
       "<div>\n",
       "<style scoped>\n",
       "    .dataframe tbody tr th:only-of-type {\n",
       "        vertical-align: middle;\n",
       "    }\n",
       "\n",
       "    .dataframe tbody tr th {\n",
       "        vertical-align: top;\n",
       "    }\n",
       "\n",
       "    .dataframe thead th {\n",
       "        text-align: right;\n",
       "    }\n",
       "</style>\n",
       "<table border=\"1\" class=\"dataframe\">\n",
       "  <thead>\n",
       "    <tr style=\"text-align: right;\">\n",
       "      <th></th>\n",
       "      <th>day</th>\n",
       "      <th>lab_test</th>\n",
       "      <th>confirmed_case</th>\n",
       "      <th>death_case</th>\n",
       "      <th>first_dose</th>\n",
       "      <th>second_dose</th>\n",
       "    </tr>\n",
       "  </thead>\n",
       "  <tbody>\n",
       "    <tr>\n",
       "      <th>count</th>\n",
       "      <td>626.000000</td>\n",
       "      <td>626.000000</td>\n",
       "      <td>626.000000</td>\n",
       "      <td>626.000000</td>\n",
       "      <td>6.260000e+02</td>\n",
       "      <td>6.260000e+02</td>\n",
       "    </tr>\n",
       "    <tr>\n",
       "      <th>mean</th>\n",
       "      <td>312.500000</td>\n",
       "      <td>18033.835463</td>\n",
       "      <td>2526.009585</td>\n",
       "      <td>44.798722</td>\n",
       "      <td>1.097140e+05</td>\n",
       "      <td>7.309854e+04</td>\n",
       "    </tr>\n",
       "    <tr>\n",
       "      <th>std</th>\n",
       "      <td>180.854914</td>\n",
       "      <td>9357.619008</td>\n",
       "      <td>2936.765446</td>\n",
       "      <td>54.528270</td>\n",
       "      <td>3.617676e+05</td>\n",
       "      <td>2.869615e+05</td>\n",
       "    </tr>\n",
       "    <tr>\n",
       "      <th>min</th>\n",
       "      <td>0.000000</td>\n",
       "      <td>367.000000</td>\n",
       "      <td>9.000000</td>\n",
       "      <td>0.000000</td>\n",
       "      <td>0.000000e+00</td>\n",
       "      <td>0.000000e+00</td>\n",
       "    </tr>\n",
       "    <tr>\n",
       "      <th>25%</th>\n",
       "      <td>156.250000</td>\n",
       "      <td>12869.500000</td>\n",
       "      <td>657.750000</td>\n",
       "      <td>14.000000</td>\n",
       "      <td>0.000000e+00</td>\n",
       "      <td>0.000000e+00</td>\n",
       "    </tr>\n",
       "    <tr>\n",
       "      <th>50%</th>\n",
       "      <td>312.500000</td>\n",
       "      <td>15557.000000</td>\n",
       "      <td>1637.000000</td>\n",
       "      <td>30.000000</td>\n",
       "      <td>0.000000e+00</td>\n",
       "      <td>0.000000e+00</td>\n",
       "    </tr>\n",
       "    <tr>\n",
       "      <th>75%</th>\n",
       "      <td>468.750000</td>\n",
       "      <td>20982.750000</td>\n",
       "      <td>2953.500000</td>\n",
       "      <td>44.000000</td>\n",
       "      <td>9.829925e+04</td>\n",
       "      <td>1.226475e+04</td>\n",
       "    </tr>\n",
       "    <tr>\n",
       "      <th>max</th>\n",
       "      <td>625.000000</td>\n",
       "      <td>55284.000000</td>\n",
       "      <td>16230.000000</td>\n",
       "      <td>264.000000</td>\n",
       "      <td>6.625123e+06</td>\n",
       "      <td>5.444166e+06</td>\n",
       "    </tr>\n",
       "  </tbody>\n",
       "</table>\n",
       "</div>"
      ],
      "text/plain": [
       "              day      lab_test  confirmed_case  death_case    first_dose  \\\n",
       "count  626.000000    626.000000      626.000000  626.000000  6.260000e+02   \n",
       "mean   312.500000  18033.835463     2526.009585   44.798722  1.097140e+05   \n",
       "std    180.854914   9357.619008     2936.765446   54.528270  3.617676e+05   \n",
       "min      0.000000    367.000000        9.000000    0.000000  0.000000e+00   \n",
       "25%    156.250000  12869.500000      657.750000   14.000000  0.000000e+00   \n",
       "50%    312.500000  15557.000000     1637.000000   30.000000  0.000000e+00   \n",
       "75%    468.750000  20982.750000     2953.500000   44.000000  9.829925e+04   \n",
       "max    625.000000  55284.000000    16230.000000  264.000000  6.625123e+06   \n",
       "\n",
       "        second_dose  \n",
       "count  6.260000e+02  \n",
       "mean   7.309854e+04  \n",
       "std    2.869615e+05  \n",
       "min    0.000000e+00  \n",
       "25%    0.000000e+00  \n",
       "50%    0.000000e+00  \n",
       "75%    1.226475e+04  \n",
       "max    5.444166e+06  "
      ]
     },
     "execution_count": 5,
     "metadata": {},
     "output_type": "execute_result"
    }
   ],
   "source": [
    "dataset.describe()"
   ]
  },
  {
   "cell_type": "code",
   "execution_count": 6,
   "metadata": {},
   "outputs": [
    {
     "data": {
      "image/png": "[encoded data removed]",
      "text/plain": [
       "<Figure size 432x288 with 1 Axes>"
      ]
     },
     "metadata": {
      "needs_background": "light"
     },
     "output_type": "display_data"
    }
   ],
   "source": [
    "dataset.plot(x='death_case', y='second_dose', style='o')  \n",
    "plt.title('death_case VS second_dose')  \n",
    "plt.xlabel('death_case')  \n",
    "plt.ylabel('second_dose')  \n",
    "plt.show()"
   ]
  },
  {
   "cell_type": "code",
   "execution_count": 7,
   "metadata": {},
   "outputs": [
    {
     "name": "stdout",
     "output_type": "stream",
     "text": [
      "Shape of X = (626, 5)\n",
      "Shape of y = (626,)\n"
     ]
    }
   ],
   "source": [
    "X= dataset.drop('death_case', axis=1)\n",
    "y= dataset['death_case']\n",
    "\n",
    "print('Shape of X =', X.shape)\n",
    "print('Shape of y =', y.shape)"
   ]
  },
  {
   "cell_type": "code",
   "execution_count": 8,
   "metadata": {},
   "outputs": [
    {
     "name": "stdout",
     "output_type": "stream",
     "text": [
      "Shape of X_train =  (500, 5)\n",
      "Shape of y_train =  (500,)\n",
      "Shape of X_test =  (126, 5)\n",
      "Shape of y_test =  (126,)\n"
     ]
    }
   ],
   "source": [
    "from sklearn.model_selection import train_test_split\n",
    "X_train, X_test, y_train, y_test = train_test_split(X, y, test_size=0.20, random_state=51)\n",
    " \n",
    "print('Shape of X_train = ', X_train.shape)\n",
    "print('Shape of y_train = ', y_train.shape)\n",
    "print('Shape of X_test = ', X_test.shape)\n",
    "print('Shape of y_test = ', y_test.shape)"
   ]
  },
  {
   "cell_type": "code",
   "execution_count": 9,
   "metadata": {},
   "outputs": [],
   "source": [
    "from sklearn.preprocessing import StandardScaler\n",
    "sc = StandardScaler()\n",
    "sc.fit(X_train)\n",
    "X_train = sc.transform(X_train)\n",
    "X_test = sc.transform(X_test)"
   ]
  },
  {
   "cell_type": "code",
   "execution_count": 10,
   "metadata": {},
   "outputs": [],
   "source": [
    "from sklearn.linear_model import LinearRegression\n",
    "from sklearn.preprocessing import PolynomialFeatures\n",
    " \n",
    "poly_reg = PolynomialFeatures(degree=2)\n",
    "poly_reg.fit(X_train)\n",
    "X_train_poly = poly_reg.transform(X_train)\n",
    "X_test_poly = poly_reg.transform(X_test)"
   ]
  },
  {
   "cell_type": "code",
   "execution_count": 11,
   "metadata": {},
   "outputs": [
    {
     "data": {
      "text/plain": [
       "((500, 21), (126, 21))"
      ]
     },
     "execution_count": 11,
     "metadata": {},
     "output_type": "execute_result"
    }
   ],
   "source": [
    "X_train_poly.shape, X_test_poly.shape"
   ]
  },
  {
   "cell_type": "code",
   "execution_count": 12,
   "metadata": {},
   "outputs": [],
   "source": [
    "lr = LinearRegression()"
   ]
  },
  {
   "cell_type": "code",
   "execution_count": 13,
   "metadata": {},
   "outputs": [
    {
     "data": {
      "text/plain": [
       "LinearRegression()"
      ]
     },
     "execution_count": 13,
     "metadata": {},
     "output_type": "execute_result"
    }
   ],
   "source": [
    "lr.fit(X_train_poly, y_train)"
   ]
  },
  {
   "cell_type": "code",
   "execution_count": 14,
   "metadata": {},
   "outputs": [
    {
     "data": {
      "text/plain": [
       "0.3411413805706671"
      ]
     },
     "execution_count": 14,
     "metadata": {},
     "output_type": "execute_result"
    }
   ],
   "source": [
    "lr.score(X_test_poly, y_test,)"
   ]
  },
  {
   "cell_type": "code",
   "execution_count": 15,
   "metadata": {},
   "outputs": [
    {
     "data": {
      "text/plain": [
       "array([-397.78482767])"
      ]
     },
     "execution_count": 15,
     "metadata": {},
     "output_type": "execute_result"
    }
   ],
   "source": [
    "lr.predict([X_test_poly[0,:]])"
   ]
  },
  {
   "cell_type": "code",
   "execution_count": 16,
   "metadata": {},
   "outputs": [
    {
     "data": {
      "text/plain": [
       "array([-3.97784828e+02,  3.50165660e+01,  2.67227531e+01,  2.97002427e+01,\n",
       "        5.53547465e+00,  2.27366013e+01,  1.82868414e+01,  2.42318330e+02,\n",
       "        1.51201542e+02,  5.91852372e+01,  3.49018918e+01,  1.10746784e+01,\n",
       "        2.31479316e+01,  3.46537312e+01,  2.05986949e+02,  1.14031829e+01,\n",
       "        8.57126992e+00,  3.61440424e+01,  8.13887804e+00,  6.27776413e+01,\n",
       "        2.84551725e+01,  4.01064637e+01,  6.11627451e+00,  1.50595611e+01,\n",
       "        4.95062110e+01,  1.17622327e+01,  1.34255391e+02,  4.68610608e+01,\n",
       "        7.24144676e+00,  1.01777625e+01,  1.16413615e+01,  2.27856273e+01,\n",
       "        8.63761318e+01,  2.33899376e+01,  7.47757612e+01,  5.03644256e+01,\n",
       "        5.04616166e+00,  1.80609903e+01,  4.49920887e+01,  6.42539653e+01,\n",
       "        6.86650840e+00,  8.61852514e+00,  3.95436711e+01,  1.10328323e+01,\n",
       "        9.21304410e+01,  6.16605471e+01,  4.45639971e+01,  1.74363500e+01,\n",
       "        1.05321750e+01,  3.83816215e+01,  2.18614281e+00,  1.55505149e+02,\n",
       "        6.38035812e+01,  2.93875135e+01,  8.42366549e+01,  3.82086014e+01,\n",
       "        2.66395820e+01,  9.45587543e+00,  6.56580925e+00,  3.89859985e+01,\n",
       "        4.30679214e+01,  2.00968934e+01,  2.62442749e+01,  7.79275121e+01,\n",
       "        1.35384226e+01,  2.90506904e+01,  4.53442238e+00,  4.88523220e+01,\n",
       "        1.58176099e+01,  3.69032569e+01,  3.48303756e+01,  2.68745387e+02,\n",
       "        1.21981602e+01,  3.47001860e+01,  1.16742491e+01,  2.14271756e+01,\n",
       "        2.18922661e+01,  5.45182827e+01,  2.06215479e+01,  4.59374630e+00,\n",
       "        1.31895410e+01,  3.11221554e+01,  2.30836770e+01,  1.36979426e+01,\n",
       "        6.73003739e+00,  9.47136988e+00,  3.34143213e+01,  5.69891662e+00,\n",
       "        2.94921085e+01,  4.68956675e+01,  5.05504701e+01,  4.52415949e+01,\n",
       "        3.69467886e+01,  1.11090331e+01,  1.15490750e+01,  5.21568721e+01,\n",
       "        2.43888619e+01, -4.72150380e+01,  3.47213381e+01,  1.05234436e+01,\n",
       "        1.40254252e+02,  1.83571669e+01,  3.40857834e+01,  1.51733687e+02,\n",
       "        5.04825783e+01,  2.00553298e+02,  2.74481344e+01,  2.88086445e+01,\n",
       "        4.93594816e+01,  4.32854118e+01,  5.69598492e+01,  1.15393673e+02,\n",
       "        2.01030103e+01,  7.09800400e+01,  4.14261525e+01,  4.75679998e+01,\n",
       "        2.11325352e+01,  1.13991459e+01,  2.01129497e+01,  7.21727711e+01,\n",
       "        3.75066972e+01,  2.86763877e-01,  5.77984339e+01,  1.29060815e+01,\n",
       "        6.41538251e+01,  1.95199731e+02])"
      ]
     },
     "execution_count": 16,
     "metadata": {},
     "output_type": "execute_result"
    }
   ],
   "source": [
    "y_pred = lr.predict(X_test_poly)\n",
    "y_pred"
   ]
  },
  {
   "cell_type": "code",
   "execution_count": 17,
   "metadata": {},
   "outputs": [
    {
     "data": {
      "text/plain": [
       "542     31\n",
       "235     39\n",
       "46      16\n",
       "215     17\n",
       "619      3\n",
       "      ... \n",
       "606      2\n",
       "79      38\n",
       "284     14\n",
       "387     97\n",
       "463    230\n",
       "Name: death_case, Length: 126, dtype: int64"
      ]
     },
     "execution_count": 17,
     "metadata": {},
     "output_type": "execute_result"
    }
   ],
   "source": [
    "y_test"
   ]
  },
  {
   "cell_type": "code",
   "execution_count": 18,
   "metadata": {},
   "outputs": [
    {
     "data": {
      "text/plain": [
       "(1739.902022906114, 41.71213280217297)"
      ]
     },
     "execution_count": 18,
     "metadata": {},
     "output_type": "execute_result"
    }
   ],
   "source": [
    "from sklearn.metrics import mean_squared_error\n",
    "mse = mean_squared_error(y_test, y_pred)\n",
    "rmse = np.sqrt(mse)\n",
    " \n",
    "mse, rmse\n",
    " "
   ]
  },
  {
   "cell_type": "code",
   "execution_count": null,
   "metadata": {},
   "outputs": [],
   "source": []
  }
 ],
 "metadata": {
  "kernelspec": {
   "display_name": "Python 3",
   "language": "python",
   "name": "python3"
  },
  "language_info": {
   "codemirror_mode": {
    "name": "ipython",
    "version": 3
   },
   "file_extension": ".py",
   "mimetype": "text/x-python",
   "name": "python",
   "nbconvert_exporter": "python",
   "pygments_lexer": "ipython3",
   "version": "3.8.3"
  }
 },
 "nbformat": 4,
 "nbformat_minor": 4
}
