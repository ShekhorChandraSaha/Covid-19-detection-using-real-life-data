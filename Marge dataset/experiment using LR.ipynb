{
 "cells": [
  {
   "cell_type": "code",
   "execution_count": 1,
   "metadata": {},
   "outputs": [],
   "source": [
    "import matplotlib.pyplot as plt\n",
    "import pandas as pd\n",
    "import numpy as np\n",
    "from sklearn import preprocessing"
   ]
  },
  {
   "cell_type": "code",
   "execution_count": 2,
   "metadata": {},
   "outputs": [
    {
     "data": {
      "text/html": [
       "<div>\n",
       "<style scoped>\n",
       "    .dataframe tbody tr th:only-of-type {\n",
       "        vertical-align: middle;\n",
       "    }\n",
       "\n",
       "    .dataframe tbody tr th {\n",
       "        vertical-align: top;\n",
       "    }\n",
       "\n",
       "    .dataframe thead th {\n",
       "        text-align: right;\n",
       "    }\n",
       "</style>\n",
       "<table border=\"1\" class=\"dataframe\">\n",
       "  <thead>\n",
       "    <tr style=\"text-align: right;\">\n",
       "      <th></th>\n",
       "      <th>day</th>\n",
       "      <th>lab_test</th>\n",
       "      <th>confirmed_case</th>\n",
       "      <th>death_case</th>\n",
       "      <th>first_dose</th>\n",
       "      <th>second_dose</th>\n",
       "    </tr>\n",
       "  </thead>\n",
       "  <tbody>\n",
       "    <tr>\n",
       "      <th>0</th>\n",
       "      <td>4/4/2020</td>\n",
       "      <td>434</td>\n",
       "      <td>9</td>\n",
       "      <td>2</td>\n",
       "      <td>0</td>\n",
       "      <td>0</td>\n",
       "    </tr>\n",
       "    <tr>\n",
       "      <th>1</th>\n",
       "      <td>5/4/2020</td>\n",
       "      <td>367</td>\n",
       "      <td>18</td>\n",
       "      <td>1</td>\n",
       "      <td>0</td>\n",
       "      <td>0</td>\n",
       "    </tr>\n",
       "    <tr>\n",
       "      <th>2</th>\n",
       "      <td>6/4/2020</td>\n",
       "      <td>468</td>\n",
       "      <td>35</td>\n",
       "      <td>3</td>\n",
       "      <td>0</td>\n",
       "      <td>0</td>\n",
       "    </tr>\n",
       "    <tr>\n",
       "      <th>3</th>\n",
       "      <td>7/4/2020</td>\n",
       "      <td>679</td>\n",
       "      <td>41</td>\n",
       "      <td>5</td>\n",
       "      <td>0</td>\n",
       "      <td>0</td>\n",
       "    </tr>\n",
       "    <tr>\n",
       "      <th>4</th>\n",
       "      <td>8/4/2020</td>\n",
       "      <td>981</td>\n",
       "      <td>54</td>\n",
       "      <td>3</td>\n",
       "      <td>0</td>\n",
       "      <td>0</td>\n",
       "    </tr>\n",
       "    <tr>\n",
       "      <th>5</th>\n",
       "      <td>9/4/2020</td>\n",
       "      <td>905</td>\n",
       "      <td>112</td>\n",
       "      <td>1</td>\n",
       "      <td>0</td>\n",
       "      <td>0</td>\n",
       "    </tr>\n",
       "    <tr>\n",
       "      <th>6</th>\n",
       "      <td>10/4/2020</td>\n",
       "      <td>1184</td>\n",
       "      <td>94</td>\n",
       "      <td>6</td>\n",
       "      <td>0</td>\n",
       "      <td>0</td>\n",
       "    </tr>\n",
       "    <tr>\n",
       "      <th>7</th>\n",
       "      <td>11/4/2020</td>\n",
       "      <td>954</td>\n",
       "      <td>58</td>\n",
       "      <td>3</td>\n",
       "      <td>0</td>\n",
       "      <td>0</td>\n",
       "    </tr>\n",
       "    <tr>\n",
       "      <th>8</th>\n",
       "      <td>12/4/2020</td>\n",
       "      <td>1340</td>\n",
       "      <td>139</td>\n",
       "      <td>4</td>\n",
       "      <td>0</td>\n",
       "      <td>0</td>\n",
       "    </tr>\n",
       "    <tr>\n",
       "      <th>9</th>\n",
       "      <td>13-04-2020</td>\n",
       "      <td>1570</td>\n",
       "      <td>182</td>\n",
       "      <td>5</td>\n",
       "      <td>0</td>\n",
       "      <td>0</td>\n",
       "    </tr>\n",
       "  </tbody>\n",
       "</table>\n",
       "</div>"
      ],
      "text/plain": [
       "          day  lab_test  confirmed_case  death_case  first_dose  second_dose\n",
       "0    4/4/2020       434               9           2           0            0\n",
       "1    5/4/2020       367              18           1           0            0\n",
       "2    6/4/2020       468              35           3           0            0\n",
       "3    7/4/2020       679              41           5           0            0\n",
       "4    8/4/2020       981              54           3           0            0\n",
       "5    9/4/2020       905             112           1           0            0\n",
       "6   10/4/2020      1184              94           6           0            0\n",
       "7   11/4/2020       954              58           3           0            0\n",
       "8   12/4/2020      1340             139           4           0            0\n",
       "9  13-04-2020      1570             182           5           0            0"
      ]
     },
     "execution_count": 2,
     "metadata": {},
     "output_type": "execute_result"
    }
   ],
   "source": [
    "dataset = pd.read_csv('Mergerd_Dataset.csv')\n",
    "dataset.head(10)"
   ]
  },
  {
   "cell_type": "code",
   "execution_count": 3,
   "metadata": {},
   "outputs": [
    {
     "name": "stdout",
     "output_type": "stream",
     "text": [
      "    day  lab_test  confirmed_case  death_case  first_dose  second_dose\n",
      "0   509       434               9           2           0            0\n",
      "1   530       367              18           1           0            0\n",
      "2   551       468              35           3           0            0\n",
      "3   572       679              41           5           0            0\n",
      "4   593       981              54           3           0            0\n",
      "..  ...       ...             ...         ...         ...          ...\n",
      "95  599     15672            3489          46           0            0\n",
      "96  620     15632            3360          41           0            0\n",
      "97   35     13488            2949          37           0            0\n",
      "98   56     11193            2686          30           0            0\n",
      "99   77     11059            2666          47           0            0\n",
      "\n",
      "[100 rows x 6 columns]\n"
     ]
    }
   ],
   "source": [
    "# label_encoder object knows how to understand word labels. \n",
    "label_encoder = preprocessing.LabelEncoder()\n",
    "# Encode labels in column 'Country'. \n",
    "dataset['day']= label_encoder.fit_transform(dataset['day']) \n",
    "print(dataset.head(100))"
   ]
  },
  {
   "cell_type": "code",
   "execution_count": 4,
   "metadata": {},
   "outputs": [
    {
     "data": {
      "text/plain": [
       "(626, 6)"
      ]
     },
     "execution_count": 4,
     "metadata": {},
     "output_type": "execute_result"
    }
   ],
   "source": [
    "dataset.shape"
   ]
  },
  {
   "cell_type": "code",
   "execution_count": 5,
   "metadata": {},
   "outputs": [
    {
     "data": {
      "text/html": [
       "<div>\n",
       "<style scoped>\n",
       "    .dataframe tbody tr th:only-of-type {\n",
       "        vertical-align: middle;\n",
       "    }\n",
       "\n",
       "    .dataframe tbody tr th {\n",
       "        vertical-align: top;\n",
       "    }\n",
       "\n",
       "    .dataframe thead th {\n",
       "        text-align: right;\n",
       "    }\n",
       "</style>\n",
       "<table border=\"1\" class=\"dataframe\">\n",
       "  <thead>\n",
       "    <tr style=\"text-align: right;\">\n",
       "      <th></th>\n",
       "      <th>day</th>\n",
       "      <th>lab_test</th>\n",
       "      <th>confirmed_case</th>\n",
       "      <th>death_case</th>\n",
       "      <th>first_dose</th>\n",
       "      <th>second_dose</th>\n",
       "    </tr>\n",
       "  </thead>\n",
       "  <tbody>\n",
       "    <tr>\n",
       "      <th>count</th>\n",
       "      <td>626.000000</td>\n",
       "      <td>626.000000</td>\n",
       "      <td>626.000000</td>\n",
       "      <td>626.000000</td>\n",
       "      <td>6.260000e+02</td>\n",
       "      <td>6.260000e+02</td>\n",
       "    </tr>\n",
       "    <tr>\n",
       "      <th>mean</th>\n",
       "      <td>312.500000</td>\n",
       "      <td>18033.835463</td>\n",
       "      <td>2526.009585</td>\n",
       "      <td>44.798722</td>\n",
       "      <td>1.097140e+05</td>\n",
       "      <td>7.309854e+04</td>\n",
       "    </tr>\n",
       "    <tr>\n",
       "      <th>std</th>\n",
       "      <td>180.854914</td>\n",
       "      <td>9357.619008</td>\n",
       "      <td>2936.765446</td>\n",
       "      <td>54.528270</td>\n",
       "      <td>3.617676e+05</td>\n",
       "      <td>2.869615e+05</td>\n",
       "    </tr>\n",
       "    <tr>\n",
       "      <th>min</th>\n",
       "      <td>0.000000</td>\n",
       "      <td>367.000000</td>\n",
       "      <td>9.000000</td>\n",
       "      <td>0.000000</td>\n",
       "      <td>0.000000e+00</td>\n",
       "      <td>0.000000e+00</td>\n",
       "    </tr>\n",
       "    <tr>\n",
       "      <th>25%</th>\n",
       "      <td>156.250000</td>\n",
       "      <td>12869.500000</td>\n",
       "      <td>657.750000</td>\n",
       "      <td>14.000000</td>\n",
       "      <td>0.000000e+00</td>\n",
       "      <td>0.000000e+00</td>\n",
       "    </tr>\n",
       "    <tr>\n",
       "      <th>50%</th>\n",
       "      <td>312.500000</td>\n",
       "      <td>15557.000000</td>\n",
       "      <td>1637.000000</td>\n",
       "      <td>30.000000</td>\n",
       "      <td>0.000000e+00</td>\n",
       "      <td>0.000000e+00</td>\n",
       "    </tr>\n",
       "    <tr>\n",
       "      <th>75%</th>\n",
       "      <td>468.750000</td>\n",
       "      <td>20982.750000</td>\n",
       "      <td>2953.500000</td>\n",
       "      <td>44.000000</td>\n",
       "      <td>9.829925e+04</td>\n",
       "      <td>1.226475e+04</td>\n",
       "    </tr>\n",
       "    <tr>\n",
       "      <th>max</th>\n",
       "      <td>625.000000</td>\n",
       "      <td>55284.000000</td>\n",
       "      <td>16230.000000</td>\n",
       "      <td>264.000000</td>\n",
       "      <td>6.625123e+06</td>\n",
       "      <td>5.444166e+06</td>\n",
       "    </tr>\n",
       "  </tbody>\n",
       "</table>\n",
       "</div>"
      ],
      "text/plain": [
       "              day      lab_test  confirmed_case  death_case    first_dose  \\\n",
       "count  626.000000    626.000000      626.000000  626.000000  6.260000e+02   \n",
       "mean   312.500000  18033.835463     2526.009585   44.798722  1.097140e+05   \n",
       "std    180.854914   9357.619008     2936.765446   54.528270  3.617676e+05   \n",
       "min      0.000000    367.000000        9.000000    0.000000  0.000000e+00   \n",
       "25%    156.250000  12869.500000      657.750000   14.000000  0.000000e+00   \n",
       "50%    312.500000  15557.000000     1637.000000   30.000000  0.000000e+00   \n",
       "75%    468.750000  20982.750000     2953.500000   44.000000  9.829925e+04   \n",
       "max    625.000000  55284.000000    16230.000000  264.000000  6.625123e+06   \n",
       "\n",
       "        second_dose  \n",
       "count  6.260000e+02  \n",
       "mean   7.309854e+04  \n",
       "std    2.869615e+05  \n",
       "min    0.000000e+00  \n",
       "25%    0.000000e+00  \n",
       "50%    0.000000e+00  \n",
       "75%    1.226475e+04  \n",
       "max    5.444166e+06  "
      ]
     },
     "execution_count": 5,
     "metadata": {},
     "output_type": "execute_result"
    }
   ],
   "source": [
    "dataset.describe()"
   ]
  },
  {
   "cell_type": "code",
   "execution_count": 6,
   "metadata": {},
   "outputs": [
    {
     "name": "stdout",
     "output_type": "stream",
     "text": [
      "Shape of X = (626, 5)\n",
      "Shape of y = (626,)\n"
     ]
    }
   ],
   "source": [
    "X= dataset.drop('death_case', axis=1)\n",
    "y= dataset['death_case']\n",
    "\n",
    "print('Shape of X =', X.shape)\n",
    "print('Shape of y =', y.shape)"
   ]
  },
  {
   "cell_type": "code",
   "execution_count": 7,
   "metadata": {},
   "outputs": [
    {
     "name": "stdout",
     "output_type": "stream",
     "text": [
      "Shape of X_train =  (500, 5)\n",
      "Shape of y_train =  (500,)\n",
      "Shape of X_test =  (126, 5)\n",
      "Shape of y_test =  (126,)\n"
     ]
    }
   ],
   "source": [
    "from sklearn.model_selection import train_test_split\n",
    "X_train, X_test, y_train, y_test = train_test_split(X, y, test_size=0.2, random_state=51)\n",
    " \n",
    "print('Shape of X_train = ', X_train.shape)\n",
    "print('Shape of y_train = ', y_train.shape)\n",
    "print('Shape of X_test = ', X_test.shape)\n",
    "print('Shape of y_test = ', y_test.shape)"
   ]
  },
  {
   "cell_type": "code",
   "execution_count": 8,
   "metadata": {},
   "outputs": [],
   "source": [
    "from sklearn.preprocessing import StandardScaler\n",
    "sc = StandardScaler()\n",
    "sc.fit(X_train)\n",
    "X_train = sc.transform(X_train)\n",
    "X_test = sc.transform(X_test)"
   ]
  },
  {
   "cell_type": "code",
   "execution_count": 9,
   "metadata": {},
   "outputs": [
    {
     "data": {
      "text/plain": [
       "LinearRegression()"
      ]
     },
     "execution_count": 9,
     "metadata": {},
     "output_type": "execute_result"
    }
   ],
   "source": [
    "from sklearn.linear_model import LinearRegression\n",
    "lr = LinearRegression()\n",
    " \n",
    "lr.fit(X_train, y_train)"
   ]
  },
  {
   "cell_type": "code",
   "execution_count": 10,
   "metadata": {},
   "outputs": [
    {
     "data": {
      "text/plain": [
       "array([-0.48195976,  3.22084149, 48.73986805,  3.6692261 ,  0.36513392])"
      ]
     },
     "execution_count": 10,
     "metadata": {},
     "output_type": "execute_result"
    }
   ],
   "source": [
    "lr.coef_"
   ]
  },
  {
   "cell_type": "code",
   "execution_count": 11,
   "metadata": {},
   "outputs": [
    {
     "data": {
      "text/plain": [
       "45.07600000000001"
      ]
     },
     "execution_count": 11,
     "metadata": {},
     "output_type": "execute_result"
    }
   ],
   "source": [
    "lr.intercept_"
   ]
  },
  {
   "cell_type": "code",
   "execution_count": 12,
   "metadata": {},
   "outputs": [
    {
     "data": {
      "text/plain": [
       "array([ 0.60582168,  1.17136417, -0.41409935, 24.34522753,  0.17789168])"
      ]
     },
     "execution_count": 12,
     "metadata": {},
     "output_type": "execute_result"
    }
   ],
   "source": [
    "X_test[0, :]"
   ]
  },
  {
   "cell_type": "code",
   "execution_count": 13,
   "metadata": {},
   "outputs": [
    {
     "data": {
      "text/plain": [
       "array([117.7667473])"
      ]
     },
     "execution_count": 13,
     "metadata": {},
     "output_type": "execute_result"
    }
   ],
   "source": [
    "lr.predict([X_test[0, :]])"
   ]
  },
  {
   "cell_type": "code",
   "execution_count": 14,
   "metadata": {},
   "outputs": [
    {
     "data": {
      "text/plain": [
       "array([117.7667473 ,  36.39918869,  25.86835825,  30.56377647,\n",
       "        14.11551411,  25.35061147,  19.26749349, 243.31257407,\n",
       "       150.63456058,  63.26952416,  35.62979727,   8.83508947,\n",
       "        23.51345513,  29.16815189, 212.7760831 ,   4.9214525 ,\n",
       "         9.07850423,  37.33287913,   9.98667625,  67.60199204,\n",
       "        26.44492043,  35.4945754 ,  11.41563671,  16.10975846,\n",
       "        48.26085383,  12.80930093, 149.16769889,  48.53829122,\n",
       "         9.77061359,  15.14162788,   4.85995541,  19.8235408 ,\n",
       "        63.81509618,  22.14223334,  80.2094246 ,  48.35092403,\n",
       "        12.30534984,  19.82356945,  45.38141038,  64.67169578,\n",
       "         6.6268496 ,  12.16989098,  40.61071052,  10.0916502 ,\n",
       "        97.40984555,  64.13935561,  46.04918908,  18.04835536,\n",
       "        13.19316732,  36.78176263,   8.00857914, 170.49759551,\n",
       "        64.67649868,  28.08910386,  90.40485212,  34.96324526,\n",
       "        26.92764113,   8.22242193,  -2.97562403,  32.81302677,\n",
       "        41.8059407 ,  25.16208445,  18.81421172,  66.44709962,\n",
       "        12.51348552,  29.37309608,   0.29852586,  46.79888139,\n",
       "        18.70639261,  34.17954149,  36.00464688, 261.35690426,\n",
       "         9.49627712,  31.22552996,   9.75762099,  20.803685  ,\n",
       "        23.10800456,  53.83056836,  19.36463874,  11.41652911,\n",
       "         8.03729965,  31.27311155,  21.51310195,  12.54702726,\n",
       "         8.59741212,   3.18383621,  36.25007407,  13.8719003 ,\n",
       "        28.78431338,  46.13221273,  50.46565486,  42.48228819,\n",
       "        33.12193616,   7.55349746,  15.8974109 ,  37.48901999,\n",
       "        24.11178833,  12.43721657,  37.80171607,   8.88579018,\n",
       "       126.99922803,  16.81834723,  36.16364977, 147.94651667,\n",
       "        51.96000748, 202.4330222 ,  32.46895016,  28.78469197,\n",
       "        48.01286988,  41.55942859,  47.42748836, 119.14190896,\n",
       "        19.7287125 ,  73.35942259,  39.38000509,  50.52111191,\n",
       "        24.9232913 ,   5.13565407,  20.35388433,  62.90393492,\n",
       "        39.07257114,  21.58158574,  58.18448062,  16.2596014 ,\n",
       "        58.77406158, 205.75125292])"
      ]
     },
     "execution_count": 14,
     "metadata": {},
     "output_type": "execute_result"
    }
   ],
   "source": [
    "lr.predict(X_test)"
   ]
  },
  {
   "cell_type": "code",
   "execution_count": 15,
   "metadata": {},
   "outputs": [
    {
     "data": {
      "text/plain": [
       "542     31\n",
       "235     39\n",
       "46      16\n",
       "215     17\n",
       "619      3\n",
       "      ... \n",
       "606      2\n",
       "79      38\n",
       "284     14\n",
       "387     97\n",
       "463    230\n",
       "Name: death_case, Length: 126, dtype: int64"
      ]
     },
     "execution_count": 15,
     "metadata": {},
     "output_type": "execute_result"
    }
   ],
   "source": [
    "y_test"
   ]
  },
  {
   "cell_type": "code",
   "execution_count": 16,
   "metadata": {},
   "outputs": [
    {
     "data": {
      "text/plain": [
       "0.8770111380185591"
      ]
     },
     "execution_count": 16,
     "metadata": {},
     "output_type": "execute_result"
    }
   ],
   "source": [
    "lr.score(X_test, y_test)"
   ]
  },
  {
   "cell_type": "code",
   "execution_count": null,
   "metadata": {},
   "outputs": [],
   "source": []
  }
 ],
 "metadata": {
  "kernelspec": {
   "display_name": "Python 3",
   "language": "python",
   "name": "python3"
  },
  "language_info": {
   "codemirror_mode": {
    "name": "ipython",
    "version": 3
   },
   "file_extension": ".py",
   "mimetype": "text/x-python",
   "name": "python",
   "nbconvert_exporter": "python",
   "pygments_lexer": "ipython3",
   "version": "3.8.3"
  }
 },
 "nbformat": 4,
 "nbformat_minor": 4
}
