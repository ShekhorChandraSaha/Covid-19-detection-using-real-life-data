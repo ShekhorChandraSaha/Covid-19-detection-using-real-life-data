{
 "cells": [
  {
   "cell_type": "code",
   "execution_count": 1,
   "metadata": {},
   "outputs": [],
   "source": [
    "### Load Libraries\n",
    "import pandas as pd\n",
    "import numpy as np\n",
    "from sklearn import preprocessing"
   ]
  },
  {
   "cell_type": "code",
   "execution_count": 2,
   "metadata": {},
   "outputs": [
    {
     "data": {
      "text/html": [
       "<div>\n",
       "<style scoped>\n",
       "    .dataframe tbody tr th:only-of-type {\n",
       "        vertical-align: middle;\n",
       "    }\n",
       "\n",
       "    .dataframe tbody tr th {\n",
       "        vertical-align: top;\n",
       "    }\n",
       "\n",
       "    .dataframe thead th {\n",
       "        text-align: right;\n",
       "    }\n",
       "</style>\n",
       "<table border=\"1\" class=\"dataframe\">\n",
       "  <thead>\n",
       "    <tr style=\"text-align: right;\">\n",
       "      <th></th>\n",
       "      <th>Day</th>\n",
       "      <th>Lab Test</th>\n",
       "      <th>Confirmed case</th>\n",
       "      <th>Death Case</th>\n",
       "    </tr>\n",
       "  </thead>\n",
       "  <tbody>\n",
       "    <tr>\n",
       "      <th>0</th>\n",
       "      <td>2020-April-04</td>\n",
       "      <td>434</td>\n",
       "      <td>9</td>\n",
       "      <td>2</td>\n",
       "    </tr>\n",
       "    <tr>\n",
       "      <th>1</th>\n",
       "      <td>2020-April-05</td>\n",
       "      <td>367</td>\n",
       "      <td>18</td>\n",
       "      <td>1</td>\n",
       "    </tr>\n",
       "    <tr>\n",
       "      <th>2</th>\n",
       "      <td>2020-April-06</td>\n",
       "      <td>468</td>\n",
       "      <td>35</td>\n",
       "      <td>3</td>\n",
       "    </tr>\n",
       "    <tr>\n",
       "      <th>3</th>\n",
       "      <td>2020-April-07</td>\n",
       "      <td>679</td>\n",
       "      <td>41</td>\n",
       "      <td>5</td>\n",
       "    </tr>\n",
       "    <tr>\n",
       "      <th>4</th>\n",
       "      <td>2020-April-08</td>\n",
       "      <td>981</td>\n",
       "      <td>54</td>\n",
       "      <td>3</td>\n",
       "    </tr>\n",
       "    <tr>\n",
       "      <th>5</th>\n",
       "      <td>2020-April-09</td>\n",
       "      <td>905</td>\n",
       "      <td>112</td>\n",
       "      <td>1</td>\n",
       "    </tr>\n",
       "    <tr>\n",
       "      <th>6</th>\n",
       "      <td>2020-April-10</td>\n",
       "      <td>1184</td>\n",
       "      <td>94</td>\n",
       "      <td>6</td>\n",
       "    </tr>\n",
       "    <tr>\n",
       "      <th>7</th>\n",
       "      <td>2020-April-11</td>\n",
       "      <td>954</td>\n",
       "      <td>58</td>\n",
       "      <td>3</td>\n",
       "    </tr>\n",
       "    <tr>\n",
       "      <th>8</th>\n",
       "      <td>2020-April-12</td>\n",
       "      <td>1340</td>\n",
       "      <td>139</td>\n",
       "      <td>4</td>\n",
       "    </tr>\n",
       "    <tr>\n",
       "      <th>9</th>\n",
       "      <td>2020-April-13</td>\n",
       "      <td>1570</td>\n",
       "      <td>182</td>\n",
       "      <td>5</td>\n",
       "    </tr>\n",
       "  </tbody>\n",
       "</table>\n",
       "</div>"
      ],
      "text/plain": [
       "             Day  Lab Test  Confirmed case  Death Case\n",
       "0  2020-April-04       434               9           2\n",
       "1  2020-April-05       367              18           1\n",
       "2  2020-April-06       468              35           3\n",
       "3  2020-April-07       679              41           5\n",
       "4  2020-April-08       981              54           3\n",
       "5  2020-April-09       905             112           1\n",
       "6  2020-April-10      1184              94           6\n",
       "7  2020-April-11       954              58           3\n",
       "8  2020-April-12      1340             139           4\n",
       "9  2020-April-13      1570             182           5"
      ]
     },
     "execution_count": 2,
     "metadata": {},
     "output_type": "execute_result"
    }
   ],
   "source": [
    "### Load dataset\n",
    "dataset = pd.read_csv('covid_dataset.csv')\n",
    "dataset.head(10)"
   ]
  },
  {
   "cell_type": "code",
   "execution_count": 3,
   "metadata": {},
   "outputs": [
    {
     "name": "stdout",
     "output_type": "stream",
     "text": [
      "    Day  Lab Test  Confirmed case  Death Case\n",
      "0     0       434               9           2\n",
      "1     1       367              18           1\n",
      "2     2       468              35           3\n",
      "3     3       679              41           5\n",
      "4     4       981              54           3\n",
      "..  ...       ...             ...         ...\n",
      "95   96     15672            3489          46\n",
      "96   97     15632            3360          41\n",
      "97   98     13488            2949          37\n",
      "98   99     11193            2686          30\n",
      "99  100     11059            2666          47\n",
      "\n",
      "[100 rows x 4 columns]\n"
     ]
    }
   ],
   "source": [
    "# label_encoder object using\n",
    "label_encoder = preprocessing.LabelEncoder()\n",
    "dataset['Day']= label_encoder.fit_transform(dataset['Day']) \n",
    "print(dataset.head(100))"
   ]
  },
  {
   "cell_type": "code",
   "execution_count": 4,
   "metadata": {},
   "outputs": [
    {
     "data": {
      "text/plain": [
       "(626, 4)"
      ]
     },
     "execution_count": 4,
     "metadata": {},
     "output_type": "execute_result"
    }
   ],
   "source": [
    "dataset.shape"
   ]
  },
  {
   "cell_type": "code",
   "execution_count": 5,
   "metadata": {},
   "outputs": [
    {
     "data": {
      "text/html": [
       "<div>\n",
       "<style scoped>\n",
       "    .dataframe tbody tr th:only-of-type {\n",
       "        vertical-align: middle;\n",
       "    }\n",
       "\n",
       "    .dataframe tbody tr th {\n",
       "        vertical-align: top;\n",
       "    }\n",
       "\n",
       "    .dataframe thead th {\n",
       "        text-align: right;\n",
       "    }\n",
       "</style>\n",
       "<table border=\"1\" class=\"dataframe\">\n",
       "  <thead>\n",
       "    <tr style=\"text-align: right;\">\n",
       "      <th></th>\n",
       "      <th>Day</th>\n",
       "      <th>Lab Test</th>\n",
       "      <th>Confirmed case</th>\n",
       "      <th>Death Case</th>\n",
       "    </tr>\n",
       "  </thead>\n",
       "  <tbody>\n",
       "    <tr>\n",
       "      <th>count</th>\n",
       "      <td>626.000000</td>\n",
       "      <td>626.000000</td>\n",
       "      <td>626.000000</td>\n",
       "      <td>626.000000</td>\n",
       "    </tr>\n",
       "    <tr>\n",
       "      <th>mean</th>\n",
       "      <td>312.500000</td>\n",
       "      <td>18033.835463</td>\n",
       "      <td>2526.009585</td>\n",
       "      <td>44.798722</td>\n",
       "    </tr>\n",
       "    <tr>\n",
       "      <th>std</th>\n",
       "      <td>180.854914</td>\n",
       "      <td>9357.619008</td>\n",
       "      <td>2936.765446</td>\n",
       "      <td>54.528270</td>\n",
       "    </tr>\n",
       "    <tr>\n",
       "      <th>min</th>\n",
       "      <td>0.000000</td>\n",
       "      <td>367.000000</td>\n",
       "      <td>9.000000</td>\n",
       "      <td>0.000000</td>\n",
       "    </tr>\n",
       "    <tr>\n",
       "      <th>25%</th>\n",
       "      <td>156.250000</td>\n",
       "      <td>12869.500000</td>\n",
       "      <td>657.750000</td>\n",
       "      <td>14.000000</td>\n",
       "    </tr>\n",
       "    <tr>\n",
       "      <th>50%</th>\n",
       "      <td>312.500000</td>\n",
       "      <td>15557.000000</td>\n",
       "      <td>1637.000000</td>\n",
       "      <td>30.000000</td>\n",
       "    </tr>\n",
       "    <tr>\n",
       "      <th>75%</th>\n",
       "      <td>468.750000</td>\n",
       "      <td>20982.750000</td>\n",
       "      <td>2953.500000</td>\n",
       "      <td>44.000000</td>\n",
       "    </tr>\n",
       "    <tr>\n",
       "      <th>max</th>\n",
       "      <td>625.000000</td>\n",
       "      <td>55284.000000</td>\n",
       "      <td>16230.000000</td>\n",
       "      <td>264.000000</td>\n",
       "    </tr>\n",
       "  </tbody>\n",
       "</table>\n",
       "</div>"
      ],
      "text/plain": [
       "              Day      Lab Test  Confirmed case  Death Case\n",
       "count  626.000000    626.000000      626.000000  626.000000\n",
       "mean   312.500000  18033.835463     2526.009585   44.798722\n",
       "std    180.854914   9357.619008     2936.765446   54.528270\n",
       "min      0.000000    367.000000        9.000000    0.000000\n",
       "25%    156.250000  12869.500000      657.750000   14.000000\n",
       "50%    312.500000  15557.000000     1637.000000   30.000000\n",
       "75%    468.750000  20982.750000     2953.500000   44.000000\n",
       "max    625.000000  55284.000000    16230.000000  264.000000"
      ]
     },
     "execution_count": 5,
     "metadata": {},
     "output_type": "execute_result"
    }
   ],
   "source": [
    "dataset.describe()"
   ]
  },
  {
   "cell_type": "code",
   "execution_count": 6,
   "metadata": {},
   "outputs": [
    {
     "name": "stdout",
     "output_type": "stream",
     "text": [
      "Shape of X = (626, 3)\n",
      "Shape of y = (626,)\n"
     ]
    }
   ],
   "source": [
    "### Split Data\n",
    "X= dataset.drop('Death Case', axis=1)\n",
    "y= dataset['Death Case']\n",
    "\n",
    "print('Shape of X =', X.shape)\n",
    "print('Shape of y =', y.shape)"
   ]
  },
  {
   "cell_type": "code",
   "execution_count": 7,
   "metadata": {},
   "outputs": [
    {
     "name": "stdout",
     "output_type": "stream",
     "text": [
      "Shape of X_train =  (500, 3)\n",
      "Shape of y_train =  (500,)\n",
      "Shape of X_test =  (126, 3)\n",
      "Shape of y_test =  (126,)\n"
     ]
    }
   ],
   "source": [
    "from sklearn.model_selection import train_test_split\n",
    "X_train, X_test, y_train, y_test = train_test_split(X, y, test_size=0.2, random_state=51)\n",
    " \n",
    "print('Shape of X_train = ', X_train.shape)\n",
    "print('Shape of y_train = ', y_train.shape)\n",
    "print('Shape of X_test = ', X_test.shape)\n",
    "print('Shape of y_test = ', y_test.shape)"
   ]
  },
  {
   "cell_type": "code",
   "execution_count": 8,
   "metadata": {},
   "outputs": [],
   "source": [
    "### Feature Scaling\n",
    "from sklearn.preprocessing import StandardScaler\n",
    "sc = StandardScaler()\n",
    "sc.fit(X_train)\n",
    "X_train = sc.transform(X_train)\n",
    "X_test = sc.transform(X_test)"
   ]
  },
  {
   "cell_type": "code",
   "execution_count": 9,
   "metadata": {},
   "outputs": [],
   "source": [
    "## Linear Regression Model Training\n",
    "from sklearn.linear_model import LinearRegression\n",
    "lr = LinearRegression()"
   ]
  },
  {
   "cell_type": "code",
   "execution_count": 10,
   "metadata": {},
   "outputs": [
    {
     "data": {
      "text/plain": [
       "LinearRegression()"
      ]
     },
     "execution_count": 10,
     "metadata": {},
     "output_type": "execute_result"
    }
   ],
   "source": [
    "lr.fit(X_train, y_train)"
   ]
  },
  {
   "cell_type": "code",
   "execution_count": 11,
   "metadata": {},
   "outputs": [
    {
     "data": {
      "text/plain": [
       "array([ 2.04880305,  3.43219932, 48.44058435])"
      ]
     },
     "execution_count": 11,
     "metadata": {},
     "output_type": "execute_result"
    }
   ],
   "source": [
    "lr.coef_"
   ]
  },
  {
   "cell_type": "code",
   "execution_count": 12,
   "metadata": {},
   "outputs": [
    {
     "data": {
      "text/plain": [
       "45.07600000000001"
      ]
     },
     "execution_count": 12,
     "metadata": {},
     "output_type": "execute_result"
    }
   ],
   "source": [
    "lr.intercept_"
   ]
  },
  {
   "cell_type": "code",
   "execution_count": 13,
   "metadata": {},
   "outputs": [
    {
     "data": {
      "text/plain": [
       "array([ 1.72266509,  1.17136417, -0.41409935])"
      ]
     },
     "execution_count": 13,
     "metadata": {},
     "output_type": "execute_result"
    }
   ],
   "source": [
    "## Predict the value\n",
    "X_test[0, :]"
   ]
  },
  {
   "cell_type": "code",
   "execution_count": 14,
   "metadata": {},
   "outputs": [
    {
     "data": {
      "text/plain": [
       "array([32.56654222])"
      ]
     },
     "execution_count": 14,
     "metadata": {},
     "output_type": "execute_result"
    }
   ],
   "source": [
    "lr.predict([X_test[0, :]])"
   ]
  },
  {
   "cell_type": "code",
   "execution_count": 15,
   "metadata": {},
   "outputs": [
    {
     "data": {
      "text/plain": [
       "array([ 32.56654222,  36.80679019,  25.4899513 ,  31.16893779,\n",
       "        10.5282799 ,  24.9485435 ,  17.98894086, 240.52411889,\n",
       "       151.62272915,  66.25912629,  36.7127309 ,  11.81337346,\n",
       "        22.46735431,  30.44697606, 212.63410896,   3.2085731 ,\n",
       "         8.88346605,  37.64673421,  12.16462155,  70.43262449,\n",
       "        30.28213319,  35.83818196,  10.06396381,  16.55428257,\n",
       "        47.03577273,  16.0571018 , 150.01643783,  45.98978623,\n",
       "        11.85318234,  16.90420875,   2.67172174,  20.37123593,\n",
       "        64.18246203,  26.38936996,  83.18023084,  47.72222794,\n",
       "        13.34114856,  19.98809397,  43.94182808,  67.35391417,\n",
       "         9.21533447,  11.38070417,  39.31979986,  10.10694157,\n",
       "        98.12741642,  63.89509655,  44.14437211,  17.14279885,\n",
       "        12.47573772,  35.1023423 ,   9.25087796, 173.25012053,\n",
       "        67.52600676,  28.21360834,  93.69296954,  38.31131494,\n",
       "        26.16947981,  10.93975948,  -4.33939842,  35.20978145,\n",
       "        40.72996345,  24.6315013 ,  22.70274852,  68.37667861,\n",
       "        15.67380541,  30.02177166,  -2.33522413,  45.85209764,\n",
       "        18.23157177,  38.48571396,  35.28549608, 257.26440097,\n",
       "        12.43529629,  31.11826099,  12.48644762,  21.525559  ,\n",
       "        23.55453306,  53.03569218,  18.86405112,  10.15568232,\n",
       "         7.99381321,  32.49520945,  24.56532265,  11.61300781,\n",
       "         7.46810859,   1.14422844,  36.16177917,  10.76066618,\n",
       "        32.87763549,  44.98658702,  49.07541904,  41.18823588,\n",
       "        33.41212434,  10.28831422,   7.28841863,  42.39554549,\n",
       "        25.03594502,   9.43332882,  37.62557694,  11.73268349,\n",
       "       126.96274988,  20.68351342,  35.64208822, 147.5648562 ,\n",
       "        52.01435804, 201.86017179,  31.98319724,  32.24951737,\n",
       "        46.97576283,  40.69972449,  48.33022127, 120.60656351,\n",
       "        20.90804844,  76.56539341,  38.3616162 ,  48.1401458 ,\n",
       "        25.17466778,   3.2264437 ,  19.32502428,  62.26308122,\n",
       "        38.05160856,   8.70796043,  57.53071513,  18.18838114,\n",
       "        60.19049968, 206.68908299])"
      ]
     },
     "execution_count": 15,
     "metadata": {},
     "output_type": "execute_result"
    }
   ],
   "source": [
    "lr.predict(X_test)"
   ]
  },
  {
   "cell_type": "code",
   "execution_count": 16,
   "metadata": {},
   "outputs": [
    {
     "data": {
      "text/plain": [
       "542     31\n",
       "235     39\n",
       "46      16\n",
       "215     17\n",
       "619      3\n",
       "      ... \n",
       "606      2\n",
       "79      38\n",
       "284     14\n",
       "387     97\n",
       "463    230\n",
       "Name: Death Case, Length: 126, dtype: int64"
      ]
     },
     "execution_count": 16,
     "metadata": {},
     "output_type": "execute_result"
    }
   ],
   "source": [
    "y_test"
   ]
  },
  {
   "cell_type": "code",
   "execution_count": 17,
   "metadata": {},
   "outputs": [
    {
     "data": {
      "text/plain": [
       "0.9051714597422712"
      ]
     },
     "execution_count": 17,
     "metadata": {},
     "output_type": "execute_result"
    }
   ],
   "source": [
    "lr.score(X_test, y_test)"
   ]
  },
  {
   "cell_type": "code",
   "execution_count": null,
   "metadata": {},
   "outputs": [],
   "source": []
  }
 ],
 "metadata": {
  "kernelspec": {
   "display_name": "Python 3",
   "language": "python",
   "name": "python3"
  },
  "language_info": {
   "codemirror_mode": {
    "name": "ipython",
    "version": 3
   },
   "file_extension": ".py",
   "mimetype": "text/x-python",
   "name": "python",
   "nbconvert_exporter": "python",
   "pygments_lexer": "ipython3",
   "version": "3.8.3"
  }
 },
 "nbformat": 4,
 "nbformat_minor": 4
}
